{
 "cells": [
  {
   "cell_type": "markdown",
   "id": "3781c77e-17a0-493f-8b11-e98539927afa",
   "metadata": {},
   "source": [
    "# Téléchargement et exportation de photos satellites en utilisant Google Earth Engine et Google Drive\n",
    "\n",
    "Reproduction du notebook du github giswqs intitulé [export-data-ee](https://github.com/giswqs/qgis-earthengine-examples/blob/afa8f84394ab35b42f7969068418b1db3df5b3a2/Folium/export-ee-data.ipynb) sur les parties intéressantes liées à l'exportation de ee.Image "
   ]
  },
  {
   "cell_type": "raw",
   "id": "aaf3732e-c80f-4264-bec2-36c6e46681ec",
   "metadata": {},
   "source": [
    "import ee"
   ]
  },
  {
   "cell_type": "raw",
   "id": "83dadc60-a3aa-4181-bff1-a2e36f8d9fcd",
   "metadata": {},
   "source": [
    "## Trigger the authentication flow. You only need to do this once\n",
    "ee.Authenticate()\n",
    "\n",
    "# Initialize the library.\n",
    "ee.Initialize()"
   ]
  },
  {
   "cell_type": "raw",
   "id": "4c397854-46f7-4e47-8001-4d688f2ca84a",
   "metadata": {},
   "source": [
    "# Print the elevation of Mount Everest.\n",
    "dem = ee.Image('USGS/SRTMGL1_003')\n",
    "xy = ee.Geometry.Point([86.9250, 27.9881])\n",
    "elev = dem.sample(xy, 30).first().get('elevation').getInfo()\n",
    "print('Mount Everest elevation (m):', elev)"
   ]
  },
  {
   "cell_type": "raw",
   "id": "2bca72bc-38d6-4f4c-8982-b594db10b516",
   "metadata": {},
   "source": [
    "# Import the Image function from the IPython.display module. \n",
    "from IPython.display import Image\n",
    "\n",
    "# Display a thumbnail of global elevation.\n",
    "Image(url = dem.updateMask(dem.gt(0))\n",
    "  .getThumbUrl({'min': 0, 'max': 4000, 'dimensions': 512,\n",
    "                'palette': ['006633', 'E5FFCC', '662A00', 'D8D8D8', 'F5F5F5']}))"
   ]
  },
  {
   "cell_type": "code",
   "execution_count": 6,
   "id": "a72276b3-41d1-4ed2-9ace-8d864967d0a1",
   "metadata": {},
   "outputs": [
    {
     "name": "stdout",
     "output_type": "stream",
     "text": [
      "Exporting m_4007424_ne_18_1_20150729\n"
     ]
    }
   ],
   "source": [
    "import ee\n",
    "\n",
    "image = ee.Image('USDA/NAIP/DOQQ/m_4007424_ne_18_1_20150729')\n",
    "region = image.geometry()  # specify the roi \n",
    "scale = image.projection().nominalScale().multiply(10)  # specify the image resolution\n",
    "description = image.get('system:index').getInfo()  # set the output image filename\n",
    "\n",
    "# Set configration parameters for output image\n",
    "task_config = {\n",
    "    'folder': 'gee-data', # output Google Drive folder\n",
    "    # 'region': region,     # roi \n",
    "    # 'scale': scale,       # image resolution\n",
    "    'crs': 'EPSG:4326',\n",
    "    'maxPixels': 1.0E13,\n",
    "    'fileFormat': 'GeoTIFF'\n",
    "    }\n",
    "\n",
    "# Export image to Google Drive\n",
    "task = ee.batch.Export.image.toDrive(image, description, **task_config)\n",
    "task.start()\n",
    "print(\"Exporting {}\".format(description))"
   ]
  },
  {
   "cell_type": "code",
   "execution_count": null,
   "id": "abe1794a-308c-4394-820e-2ef393ef3210",
   "metadata": {},
   "outputs": [],
   "source": []
  }
 ],
 "metadata": {
  "kernelspec": {
   "display_name": "Python 3",
   "language": "python",
   "name": "python3"
  },
  "language_info": {
   "codemirror_mode": {
    "name": "ipython",
    "version": 3
   },
   "file_extension": ".py",
   "mimetype": "text/x-python",
   "name": "python",
   "nbconvert_exporter": "python",
   "pygments_lexer": "ipython3",
   "version": "3.8.8"
  }
 },
 "nbformat": 4,
 "nbformat_minor": 5
}
