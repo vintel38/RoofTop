{
 "cells": [
  {
   "cell_type": "markdown",
   "id": "1e400de4-298e-4697-8521-7640616a0e4f",
   "metadata": {},
   "source": [
    "# GDAL Test Notebook to check usage of GDAL library\n",
    "\n",
    "To avoid non compatibility between packages at the installation, install everything in one shot \n",
    "conda install -c conda-forge gdal matplotlib scikit-image tqdm tensorflow "
   ]
  },
  {
   "cell_type": "code",
   "execution_count": 18,
   "id": "9a781cdd-a5e5-48d5-b9f2-c9dab3a81533",
   "metadata": {},
   "outputs": [],
   "source": [
    "from osgeo import gdal"
   ]
  },
  {
   "cell_type": "code",
   "execution_count": 19,
   "id": "1a8df7a0-010b-4d0d-9b53-692d04c3c801",
   "metadata": {},
   "outputs": [],
   "source": [
    "import matplotlib"
   ]
  },
  {
   "cell_type": "code",
   "execution_count": 20,
   "id": "dfd81e05-bac3-4ec8-b00c-097bc78a426b",
   "metadata": {},
   "outputs": [],
   "source": [
    "import tensorflow"
   ]
  },
  {
   "cell_type": "code",
   "execution_count": 21,
   "id": "609e6f83-af22-49d8-abea-cfce3b005f18",
   "metadata": {},
   "outputs": [
    {
     "data": {
      "text/plain": [
       "osgeo.gdal.Dataset"
      ]
     },
     "execution_count": 21,
     "metadata": {},
     "output_type": "execute_result"
    }
   ],
   "source": [
    "file_path = r\"C:\\Users\\VArri\\Documents\\Rooftop\\dataset\\dataset\\dataset\\austin1.tif\"\n",
    "raster = gdal.Open(file_path)\n",
    "type(raster)"
   ]
  },
  {
   "cell_type": "code",
   "execution_count": 22,
   "id": "5bcb2284-814a-4ace-95d9-868c3457baae",
   "metadata": {},
   "outputs": [
    {
     "name": "stdout",
     "output_type": "stream",
     "text": [
      "PROJCS[\"NAD83 / UTM zone 14N\",GEOGCS[\"NAD83\",DATUM[\"North_American_Datum_1983\",SPHEROID[\"GRS 1980\",6378137,298.257222101,AUTHORITY[\"EPSG\",\"7019\"]],AUTHORITY[\"EPSG\",\"6269\"]],PRIMEM[\"Greenwich\",0,AUTHORITY[\"EPSG\",\"8901\"]],UNIT[\"degree\",0.0174532925199433,AUTHORITY[\"EPSG\",\"9122\"]],AUTHORITY[\"EPSG\",\"4269\"]],PROJECTION[\"Transverse_Mercator\"],PARAMETER[\"latitude_of_origin\",0],PARAMETER[\"central_meridian\",-99],PARAMETER[\"scale_factor\",0.9996],PARAMETER[\"false_easting\",500000],PARAMETER[\"false_northing\",0],UNIT[\"metre\",1,AUTHORITY[\"EPSG\",\"9001\"]],AXIS[\"Easting\",EAST],AXIS[\"Northing\",NORTH],AUTHORITY[\"EPSG\",\"26914\"]]\n",
      "5000\n",
      "5000\n",
      "3\n",
      "{'AREA_OR_POINT': 'Area'}\n"
     ]
    }
   ],
   "source": [
    "# Projection\n",
    "print(raster.GetProjection())\n",
    "\n",
    "# Dimensions\n",
    "print(raster.RasterXSize)\n",
    "print(raster.RasterYSize)\n",
    "\n",
    "# Number of bands\n",
    "print(raster.RasterCount)\n",
    "\n",
    "# Metadata for the raster dataset\n",
    "print(raster.GetMetadata())"
   ]
  },
  {
   "cell_type": "code",
   "execution_count": 23,
   "id": "cf85f0b3-7ba7-43b4-a3c9-61829ce053f1",
   "metadata": {},
   "outputs": [
    {
     "name": "stdout",
     "output_type": "stream",
     "text": [
      "(616500.0, 0.29999999999997673, 0.0, 3345000.0, 0.0, -0.30000000000009314)\n"
     ]
    }
   ],
   "source": [
    "ulx, xres, xskew, uly, yskew, yres  = raster.GetGeoTransform()\n",
    "# Xp = padfTransform[0] + P*padfTransform[1] + L*padfTransform[2];\n",
    "# Yp = padfTransform[3] + P*padfTransform[4] + L*padfTransform[5];\n",
    "# In a north up image, padfTransform[1] is the pixel width, and padfTransform[5] is the pixel height. \n",
    "# The upper left corner of the upper left pixel is at position (padfTransform[0],padfTransform[3]).\n",
    "print(raster.GetGeoTransform())"
   ]
  },
  {
   "cell_type": "code",
   "execution_count": 24,
   "id": "e2cb35a2-7454-452e-a6a7-40b4225611c5",
   "metadata": {},
   "outputs": [
    {
     "data": {
      "text/plain": [
       "'PROJCS[\"NAD83 / UTM zone 14N\",GEOGCS[\"NAD83\",DATUM[\"North_American_Datum_1983\",SPHEROID[\"GRS 1980\",6378137,298.257222101,AUTHORITY[\"EPSG\",\"7019\"]],AUTHORITY[\"EPSG\",\"6269\"]],PRIMEM[\"Greenwich\",0,AUTHORITY[\"EPSG\",\"8901\"]],UNIT[\"degree\",0.0174532925199433,AUTHORITY[\"EPSG\",\"9122\"]],AUTHORITY[\"EPSG\",\"4269\"]],PROJECTION[\"Transverse_Mercator\"],PARAMETER[\"latitude_of_origin\",0],PARAMETER[\"central_meridian\",-99],PARAMETER[\"scale_factor\",0.9996],PARAMETER[\"false_easting\",500000],PARAMETER[\"false_northing\",0],UNIT[\"metre\",1,AUTHORITY[\"EPSG\",\"9001\"]],AXIS[\"Easting\",EAST],AXIS[\"Northing\",NORTH],AUTHORITY[\"EPSG\",\"26914\"]]'"
      ]
     },
     "execution_count": 24,
     "metadata": {},
     "output_type": "execute_result"
    }
   ],
   "source": [
    "raster.GetProjection()"
   ]
  },
  {
   "cell_type": "code",
   "execution_count": 25,
   "id": "9c089b67-ea29-420d-ae5f-0e602b4d2949",
   "metadata": {},
   "outputs": [
    {
     "name": "stdout",
     "output_type": "stream",
     "text": [
      "Driver: GTiff/GeoTIFF\n",
      "Files: C:\\Users\\VArri\\Documents\\Rooftop\\dataset\\dataset\\dataset\\\\austin1.tif\n",
      "Size is 5000, 5000\n",
      "Coordinate System is:\n",
      "PROJCRS[\"NAD83 / UTM zone 14N\",\n",
      "    BASEGEOGCRS[\"NAD83\",\n",
      "        DATUM[\"North American Datum 1983\",\n",
      "            ELLIPSOID[\"GRS 1980\",6378137,298.257222101,\n",
      "                LENGTHUNIT[\"metre\",1]]],\n",
      "        PRIMEM[\"Greenwich\",0,\n",
      "            ANGLEUNIT[\"degree\",0.0174532925199433]],\n",
      "        ID[\"EPSG\",4269]],\n",
      "    CONVERSION[\"UTM zone 14N\",\n",
      "        METHOD[\"Transverse Mercator\",\n",
      "            ID[\"EPSG\",9807]],\n",
      "        PARAMETER[\"Latitude of natural origin\",0,\n",
      "            ANGLEUNIT[\"degree\",0.0174532925199433],\n",
      "            ID[\"EPSG\",8801]],\n",
      "        PARAMETER[\"Longitude of natural origin\",-99,\n",
      "            ANGLEUNIT[\"degree\",0.0174532925199433],\n",
      "            ID[\"EPSG\",8802]],\n",
      "        PARAMETER[\"Scale factor at natural origin\",0.9996,\n",
      "            SCALEUNIT[\"unity\",1],\n",
      "            ID[\"EPSG\",8805]],\n",
      "        PARAMETER[\"False easting\",500000,\n",
      "            LENGTHUNIT[\"metre\",1],\n",
      "            ID[\"EPSG\",8806]],\n",
      "        PARAMETER[\"False northing\",0,\n",
      "            LENGTHUNIT[\"metre\",1],\n",
      "            ID[\"EPSG\",8807]]],\n",
      "    CS[Cartesian,2],\n",
      "        AXIS[\"(E)\",east,\n",
      "            ORDER[1],\n",
      "            LENGTHUNIT[\"metre\",1]],\n",
      "        AXIS[\"(N)\",north,\n",
      "            ORDER[2],\n",
      "            LENGTHUNIT[\"metre\",1]],\n",
      "    USAGE[\n",
      "        SCOPE[\"Engineering survey, topographic mapping.\"],\n",
      "        AREA[\"North America - between 102Â°W and 96Â°W - onshore and offshore. Canada - Manitoba; Nunavut; Saskatchewan. United States (USA) - Iowa; Kansas; Minnesota; Nebraska; North Dakota; Oklahoma; South Dakota; Texas.\"],\n",
      "        BBOX[25.83,-102,84,-96]],\n",
      "    ID[\"EPSG\",26914]]\n",
      "Data axis to CRS axis mapping: 1,2\n",
      "Origin = (616500.000000000000000,3345000.000000000000000)\n",
      "Pixel Size = (0.299999999999977,-0.300000000000093)\n",
      "Metadata:\n",
      "  AREA_OR_POINT=Area\n",
      "Image Structure Metadata:\n",
      "  INTERLEAVE=PIXEL\n",
      "Corner Coordinates:\n",
      "Upper Left  (  616500.000, 3345000.000) ( 97d47'21.56\"W, 30d13'51.53\"N)\n",
      "Lower Left  (  616500.000, 3343500.000) ( 97d47'22.16\"W, 30d13' 2.81\"N)\n",
      "Upper Right (  618000.000, 3345000.000) ( 97d46'25.45\"W, 30d13'51.01\"N)\n",
      "Lower Right (  618000.000, 3343500.000) ( 97d46'26.06\"W, 30d13' 2.29\"N)\n",
      "Center      (  617250.000, 3344250.000) ( 97d46'53.81\"W, 30d13'26.91\"N)\n",
      "Band 1 Block=5000x1 Type=Byte, ColorInterp=Red\n",
      "Band 2 Block=5000x1 Type=Byte, ColorInterp=Green\n",
      "Band 3 Block=5000x1 Type=Byte, ColorInterp=Blue\n"
     ]
    }
   ],
   "source": [
    "!gdalinfo $file_path"
   ]
  },
  {
   "cell_type": "code",
   "execution_count": null,
   "id": "a1368110-d4f2-48ff-bdb0-372c60ff2726",
   "metadata": {},
   "outputs": [],
   "source": [
    "from tqdm import tqdm\n",
    "!gdalwarp -tr 0.6 0.6 $file_path cvt.tif\n",
    "import numpy"
   ]
  },
  {
   "cell_type": "code",
   "execution_count": null,
   "id": "1c6c3276-3eb0-44fd-b364-467d7055aba1",
   "metadata": {},
   "outputs": [],
   "source": [
    "!gdalinfo cvt.tif"
   ]
  },
  {
   "cell_type": "code",
   "execution_count": null,
   "id": "e5080ed3-8f15-4c7c-8107-c331012c4f69",
   "metadata": {},
   "outputs": [],
   "source": [
    "ext = GetExtent(raster) \n",
    "ext"
   ]
  },
  {
   "cell_type": "code",
   "execution_count": null,
   "id": "ebcc877d-b00b-4257-9f56-106bde414f41",
   "metadata": {},
   "outputs": [],
   "source": [
    "def GetExtent(ds):\n",
    "    \"\"\" Return list of corner coordinates from a gdal Dataset \"\"\"\n",
    "    xmin, xpixel, _, ymax, _, ypixel = ds.GetGeoTransform()\n",
    "    width, height = ds.RasterXSize, ds.RasterYSize\n",
    "    xmax = xmin + width * xpixel\n",
    "    ymin = ymax + height * ypixel\n",
    "\n",
    "    return (xmin, ymax), (xmax, ymax), (xmax, ymin), (xmin, ymin)\n",
    "\n",
    "# https://gis.stackexchange.com/questions/57834/how-to-get-raster-corner-coordinates-using-python-gdal-bindings"
   ]
  },
  {
   "cell_type": "raw",
   "id": "9827ddda-4250-45e3-b99b-7fc4cb50a4c1",
   "metadata": {},
   "source": [
    "faire un fichier bash parait être la meilleur solution puis l'éxecuter directement dans le jupyterlab \n",
    "python bindings pas assez ergonomique pour être utilisés à grande ampleur "
   ]
  },
  {
   "cell_type": "code",
   "execution_count": 14,
   "id": "7917ba64-d1ff-483a-8c7c-e86ec3c4d501",
   "metadata": {},
   "outputs": [],
   "source": [
    "import json"
   ]
  },
  {
   "cell_type": "code",
   "execution_count": 16,
   "id": "de286235-54b8-4891-af7f-f7eaf2cb1a82",
   "metadata": {},
   "outputs": [
    {
     "name": "stdout",
     "output_type": "stream",
     "text": [
      "[[524.3243243243244, 674.4144144144144], [563.963963963964, 675.3153153153154], [564.6846846846847, 729.5495495495496], [523.7837837837837, 729.3693693693693]]\n",
      "[[528.8288288288288, 765.2252252252252], [577.1171171171171, 765.5855855855856], [577.1171171171171, 831.8918918918919], [561.2612612612613, 831.8918918918919], [559.4594594594595, 778.1981981981983], [528.4684684684685, 779.0990990990991]]\n",
      "[[551.3513513513514, 837.2972972972973], [577.6576576576576, 836.7567567567568], [577.8378378378378, 852.072072072072], [583.6036036036036, 852.2522522522523], [583.4234234234234, 878.3783783783784], [577.8378378378378, 878.1981981981983], [578.7387387387388, 901.8018018018018], [561.981981981982, 901.4414414414415], [562.3423423423424, 882.8828828828829], [559.2792792792793, 883.063063063063], [559.4594594594595, 862.1621621621622], [567.0270270270271, 862.3423423423424], [566.6666666666666, 852.972972972973], [551.8918918918919, 853.3333333333334]]\n",
      "4.5.7\n"
     ]
    },
    {
     "ename": "TypeError",
     "evalue": "string indices must be integers",
     "output_type": "error",
     "traceback": [
      "\u001b[1;31m---------------------------------------------------------------------------\u001b[0m",
      "\u001b[1;31mTypeError\u001b[0m                                 Traceback (most recent call last)",
      "\u001b[1;32m~\\AppData\\Local\\Temp/ipykernel_10060/1651669324.py\u001b[0m in \u001b[0;36m<module>\u001b[1;34m\u001b[0m\n\u001b[0;32m      8\u001b[0m \u001b[1;32mfor\u001b[0m \u001b[0melement\u001b[0m \u001b[1;32min\u001b[0m \u001b[0mdata\u001b[0m\u001b[1;33m:\u001b[0m\u001b[1;33m\u001b[0m\u001b[1;33m\u001b[0m\u001b[0m\n\u001b[0;32m      9\u001b[0m     \u001b[1;32mif\u001b[0m \u001b[1;34m'imageData'\u001b[0m \u001b[1;32min\u001b[0m \u001b[0melement\u001b[0m\u001b[1;33m:\u001b[0m\u001b[1;33m\u001b[0m\u001b[1;33m\u001b[0m\u001b[0m\n\u001b[1;32m---> 10\u001b[1;33m         \u001b[0mprint\u001b[0m\u001b[1;33m(\u001b[0m\u001b[0melement\u001b[0m\u001b[1;33m[\u001b[0m\u001b[1;34m'imageData'\u001b[0m\u001b[1;33m]\u001b[0m\u001b[1;33m)\u001b[0m\u001b[1;33m\u001b[0m\u001b[1;33m\u001b[0m\u001b[0m\n\u001b[0m\u001b[0;32m     11\u001b[0m         \u001b[1;31m# element.pop('imageData', None)\u001b[0m\u001b[1;33m\u001b[0m\u001b[1;33m\u001b[0m\u001b[1;33m\u001b[0m\u001b[0m\n",
      "\u001b[1;31mTypeError\u001b[0m: string indices must be integers"
     ]
    }
   ],
   "source": [
    "with open(r'C:\\Users\\VArri\\Documents\\Rooftop\\dataset\\dataset\\dataset\\colab\\val\\bellingham1101.json') as json_file:\n",
    "    data = json.load(json_file)\n",
    "    for p in data['shapes']:\n",
    "        print(p['points'])\n",
    "    print(data[\"version\"])\n",
    "    # print(data)\n",
    "    \n",
    "for element in data:\n",
    "    if 'imageData' in element:\n",
    "        print(element['imageData'])\n",
    "        # element.pop('imageData', None)"
   ]
  },
  {
   "cell_type": "code",
   "execution_count": null,
   "id": "84056f13-8405-47c9-9e29-a82ed7243dad",
   "metadata": {},
   "outputs": [],
   "source": [
    "print(data)"
   ]
  },
  {
   "cell_type": "code",
   "execution_count": null,
   "id": "19844829-36e7-4f98-b39e-28f7790b789e",
   "metadata": {},
   "outputs": [],
   "source": []
  },
  {
   "cell_type": "markdown",
   "id": "b1055158-5e22-4c8e-876b-fc0baaa8a6d4",
   "metadata": {},
   "source": [
    "## Preprocessing steps for 5000x5000px GeoTiff images"
   ]
  },
  {
   "cell_type": "code",
   "execution_count": 74,
   "id": "bf9b6a40-f152-4f93-a9b9-27fa870b95d4",
   "metadata": {},
   "outputs": [
    {
     "name": "stderr",
     "output_type": "stream",
     "text": [
      "ERROR 1: Output dataset C:\\Users\\VArri\\Documents\\Rooftop\\dataset\\dataset\\dataset\\austin1cvt.tif exists,\n",
      "but some command line options were provided indicating a new dataset\n",
      "should be created.  Please delete existing dataset and run again.\n",
      "\n"
     ]
    }
   ],
   "source": [
    "import os \n",
    "from tqdm import tqdm \n",
    "import json\n",
    "from osgeo import gdal\n",
    "\n",
    "dataset_dir = r\"C:\\Users\\VArri\\Documents\\Rooftop\\dataset\\dataset\\dataset\"\n",
    "\n",
    "train_dir = os.path.join(dataset_dir, 'train', 'images')\n",
    "test_dir  = os.path.join(dataset_dir, 'test', 'images')\n",
    "\n",
    "def preprocess(dataset_dir, train_dir, test_dir=None):\n",
    "    True\n",
    "\n",
    "file_path = os.path.join(dataset_dir, 'austin1.tif')\n",
    "res_path = os.path.join(dataset_dir, 'austin1cvt.tif')\n",
    "final_path = os.path.join(dataset_dir, 'austin1fin.tif')\n",
    "\n",
    "!gdalwarp -tr 0.6 0.6 $file_path $res_path"
   ]
  },
  {
   "cell_type": "code",
   "execution_count": null,
   "id": "12ed4b00-f08b-4f24-9d8e-7ae4b4612e37",
   "metadata": {},
   "outputs": [],
   "source": [
    "!gdalinfo $res_path"
   ]
  },
  {
   "cell_type": "code",
   "execution_count": 73,
   "id": "666025ea-006a-4f49-8c37-f856f55b655a",
   "metadata": {},
   "outputs": [
    {
     "name": "stdout",
     "output_type": "stream",
     "text": [
      "Tile extent is\n",
      "Upper Left  : (616500.0, 3345000.0) \n",
      "Lower Left  : (616500.0, 3343500.0) \n",
      "Upper Right : (618000.0, 3345000.0) \n",
      "Lower Right : (618000.0, 3343500.0\n"
     ]
    }
   ],
   "source": [
    "def GetExtent(ds):\n",
    "    \"\"\" Return list of corner coordinates from a gdal Dataset \"\"\"\n",
    "    xmin, xpixel, _, ymax, _, ypixel = ds.GetGeoTransform()\n",
    "    width, height = ds.RasterXSize, ds.RasterYSize\n",
    "    xmax = xmin + width * xpixel\n",
    "    ymin = ymax + height * ypixel\n",
    "\n",
    "    return round(xmin,0), round(xmax,0), round(ymin,0), round(ymax, 0)\n",
    "\n",
    "# https://gis.stackexchange.com/questions/57834/how-to-get-raster-corner-coordinates-using-python-gdal-bindings\n",
    "\n",
    "raster = gdal.Open(file_path)\n",
    "ext = GetExtent(raster) \n",
    "#print(ext)\n",
    "xmin, xmax, ymin, ymax = [str(i) for i in ext]\n",
    "print('Tile extent is')\n",
    "print('Upper Left  : ('+ xmin + ', ' + ymax + ') \\n'\n",
    "      'Lower Left  : (' + xmin + ', ' + ymin  + ') \\n'\n",
    "      'Upper Right : (' + xmax + ', ' + ymax  + ') \\n'\n",
    "      'Lower Right : (' + xmax + ', ' + ymin) "
   ]
  },
  {
   "cell_type": "code",
   "execution_count": 78,
   "id": "d1705a5a-6d40-48b9-9d6c-d43e956168ba",
   "metadata": {},
   "outputs": [
    {
     "name": "stdout",
     "output_type": "stream",
     "text": [
      "Creating output file that is 1024P x 1024L.\n",
      "Processing C:\\Users\\VArri\\Documents\\Rooftop\\dataset\\dataset\\dataset\\austin1cvt.tif [1/1] : 0...10...20...30...40...50...60...70...80...90...100 - done.\n"
     ]
    }
   ],
   "source": [
    "nxmin = ext[0]\n",
    "nxmax = ext[0] + 1024 * 0.6\n",
    "nymin = ext[3] - 1024 * 0.6\n",
    "nymax = ext[3]\n",
    "\n",
    "!gdalwarp -overwrite -te $nxmin $nymin $nxmax $nymax $res_path $final_path"
   ]
  },
  {
   "cell_type": "code",
   "execution_count": 77,
   "id": "7404cb6e-9990-46ac-910c-9d18496cfd95",
   "metadata": {},
   "outputs": [
    {
     "name": "stdout",
     "output_type": "stream",
     "text": [
      "Driver: GTiff/GeoTIFF\n",
      "Files: C:\\Users\\VArri\\Documents\\Rooftop\\dataset\\dataset\\dataset\\austin1fin.tif\n",
      "Size is 1024, 1024\n",
      "Coordinate System is:\n",
      "PROJCRS[\"NAD83 / UTM zone 14N\",\n",
      "    BASEGEOGCRS[\"NAD83\",\n",
      "        DATUM[\"North American Datum 1983\",\n",
      "            ELLIPSOID[\"GRS 1980\",6378137,298.257222101,\n",
      "                LENGTHUNIT[\"metre\",1]]],\n",
      "        PRIMEM[\"Greenwich\",0,\n",
      "            ANGLEUNIT[\"degree\",0.0174532925199433]],\n",
      "        ID[\"EPSG\",4269]],\n",
      "    CONVERSION[\"UTM zone 14N\",\n",
      "        METHOD[\"Transverse Mercator\",\n",
      "            ID[\"EPSG\",9807]],\n",
      "        PARAMETER[\"Latitude of natural origin\",0,\n",
      "            ANGLEUNIT[\"degree\",0.0174532925199433],\n",
      "            ID[\"EPSG\",8801]],\n",
      "        PARAMETER[\"Longitude of natural origin\",-99,\n",
      "            ANGLEUNIT[\"degree\",0.0174532925199433],\n",
      "            ID[\"EPSG\",8802]],\n",
      "        PARAMETER[\"Scale factor at natural origin\",0.9996,\n",
      "            SCALEUNIT[\"unity\",1],\n",
      "            ID[\"EPSG\",8805]],\n",
      "        PARAMETER[\"False easting\",500000,\n",
      "            LENGTHUNIT[\"metre\",1],\n",
      "            ID[\"EPSG\",8806]],\n",
      "        PARAMETER[\"False northing\",0,\n",
      "            LENGTHUNIT[\"metre\",1],\n",
      "            ID[\"EPSG\",8807]]],\n",
      "    CS[Cartesian,2],\n",
      "        AXIS[\"(E)\",east,\n",
      "            ORDER[1],\n",
      "            LENGTHUNIT[\"metre\",1]],\n",
      "        AXIS[\"(N)\",north,\n",
      "            ORDER[2],\n",
      "            LENGTHUNIT[\"metre\",1]],\n",
      "    USAGE[\n",
      "        SCOPE[\"Engineering survey, topographic mapping.\"],\n",
      "        AREA[\"North America - between 102Â°W and 96Â°W - onshore and offshore. Canada - Manitoba; Nunavut; Saskatchewan. United States (USA) - Iowa; Kansas; Minnesota; Nebraska; North Dakota; Oklahoma; South Dakota; Texas.\"],\n",
      "        BBOX[25.83,-102,84,-96]],\n",
      "    ID[\"EPSG\",26914]]\n",
      "Data axis to CRS axis mapping: 1,2\n",
      "Origin = (616500.000000000000000,3344114.399999999906868)\n",
      "Pixel Size = (0.600000000000023,-0.599999999999909)\n",
      "Metadata:\n",
      "  AREA_OR_POINT=Area\n",
      "Image Structure Metadata:\n",
      "  INTERLEAVE=PIXEL\n",
      "Corner Coordinates:\n",
      "Upper Left  (  616500.000, 3344114.400) ( 97d47'21.91\"W, 30d13'22.76\"N)\n",
      "Lower Left  (  616500.000, 3343500.000) ( 97d47'22.16\"W, 30d13' 2.81\"N)\n",
      "Upper Right (  617114.400, 3344114.400) ( 97d46'58.93\"W, 30d13'22.55\"N)\n",
      "Lower Right (  617114.400, 3343500.000) ( 97d46'59.18\"W, 30d13' 2.59\"N)\n",
      "Center      (  616807.200, 3343807.200) ( 97d47'10.55\"W, 30d13'12.68\"N)\n",
      "Band 1 Block=1024x2 Type=Byte, ColorInterp=Red\n",
      "Band 2 Block=1024x2 Type=Byte, ColorInterp=Green\n",
      "Band 3 Block=1024x2 Type=Byte, ColorInterp=Blue\n"
     ]
    }
   ],
   "source": [
    "!gdalinfo $final_path"
   ]
  },
  {
   "cell_type": "code",
   "execution_count": null,
   "id": "0b014725-9bf7-4ca5-b383-26a0f9bd81d3",
   "metadata": {},
   "outputs": [],
   "source": []
  }
 ],
 "metadata": {
  "kernelspec": {
   "display_name": "Python 3 (ipykernel)",
   "language": "python",
   "name": "python3"
  },
  "language_info": {
   "codemirror_mode": {
    "name": "ipython",
    "version": 3
   },
   "file_extension": ".py",
   "mimetype": "text/x-python",
   "name": "python",
   "nbconvert_exporter": "python",
   "pygments_lexer": "ipython3",
   "version": "3.9.6"
  }
 },
 "nbformat": 4,
 "nbformat_minor": 5
}
