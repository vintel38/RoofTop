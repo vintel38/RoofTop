{
 "cells": [
  {
   "cell_type": "markdown",
   "id": "1e400de4-298e-4697-8521-7640616a0e4f",
   "metadata": {},
   "source": [
    "# GDAL Test Notebook to check usage of GDAL library\n",
    "\n",
    "To avoid non compatibility between packages at the installation, install everything in one shot \n",
    "conda install -c conda-forge gdal matplotlib scikit-image tqdm tensorflow "
   ]
  },
  {
   "cell_type": "code",
   "execution_count": 2,
   "id": "9a781cdd-a5e5-48d5-b9f2-c9dab3a81533",
   "metadata": {},
   "outputs": [],
   "source": [
    "from osgeo import gdal"
   ]
  },
  {
   "cell_type": "code",
   "execution_count": 3,
   "id": "1a8df7a0-010b-4d0d-9b53-692d04c3c801",
   "metadata": {},
   "outputs": [],
   "source": [
    "import matplotlib"
   ]
  },
  {
   "cell_type": "code",
   "execution_count": 4,
   "id": "dfd81e05-bac3-4ec8-b00c-097bc78a426b",
   "metadata": {},
   "outputs": [],
   "source": [
    "import tensorflow"
   ]
  },
  {
   "cell_type": "code",
   "execution_count": 5,
   "id": "609e6f83-af22-49d8-abea-cfce3b005f18",
   "metadata": {},
   "outputs": [
    {
     "data": {
      "text/plain": [
       "NoneType"
      ]
     },
     "execution_count": 5,
     "metadata": {},
     "output_type": "execute_result"
    }
   ],
   "source": [
    "file_path = r\"C:\\Users\\VArri\\Documents\\Rooftop\\dataset\\dataset\\dataset\\austin1.tif\"\n",
    "raster = gdal.Open(file_path)\n",
    "type(raster)"
   ]
  },
  {
   "cell_type": "code",
   "execution_count": null,
   "id": "5bcb2284-814a-4ace-95d9-868c3457baae",
   "metadata": {},
   "outputs": [],
   "source": [
    "# Projection\n",
    "print(raster.GetProjection())\n",
    "\n",
    "# Dimensions\n",
    "print(raster.RasterXSize)\n",
    "print(raster.RasterYSize)\n",
    "\n",
    "# Number of bands\n",
    "print(raster.RasterCount)\n",
    "\n",
    "# Metadata for the raster dataset\n",
    "print(raster.GetMetadata())"
   ]
  },
  {
   "cell_type": "code",
   "execution_count": null,
   "id": "cf85f0b3-7ba7-43b4-a3c9-61829ce053f1",
   "metadata": {},
   "outputs": [],
   "source": [
    "ulx, xres, xskew, uly, yskew, yres  = raster.GetGeoTransform()\n",
    "# Xp = padfTransform[0] + P*padfTransform[1] + L*padfTransform[2];\n",
    "# Yp = padfTransform[3] + P*padfTransform[4] + L*padfTransform[5];\n",
    "# In a north up image, padfTransform[1] is the pixel width, and padfTransform[5] is the pixel height. \n",
    "# The upper left corner of the upper left pixel is at position (padfTransform[0],padfTransform[3]).\n",
    "print(raster.GetGeoTransform())"
   ]
  },
  {
   "cell_type": "code",
   "execution_count": null,
   "id": "e2cb35a2-7454-452e-a6a7-40b4225611c5",
   "metadata": {},
   "outputs": [],
   "source": [
    "raster.GetProjection()"
   ]
  },
  {
   "cell_type": "code",
   "execution_count": null,
   "id": "9c089b67-ea29-420d-ae5f-0e602b4d2949",
   "metadata": {},
   "outputs": [],
   "source": [
    "!gdalinfo $file_path"
   ]
  },
  {
   "cell_type": "code",
   "execution_count": null,
   "id": "a1368110-d4f2-48ff-bdb0-372c60ff2726",
   "metadata": {},
   "outputs": [],
   "source": [
    "from tqdm import tqdm\n",
    "!gdalwarp -tr 0.6 0.6 $file_path cvt.tif\n",
    "import numpy"
   ]
  },
  {
   "cell_type": "code",
   "execution_count": null,
   "id": "1c6c3276-3eb0-44fd-b364-467d7055aba1",
   "metadata": {},
   "outputs": [],
   "source": [
    "!gdalinfo cvt.tif"
   ]
  },
  {
   "cell_type": "code",
   "execution_count": null,
   "id": "e5080ed3-8f15-4c7c-8107-c331012c4f69",
   "metadata": {},
   "outputs": [],
   "source": [
    "ext = GetExtent(raster) \n",
    "ext"
   ]
  },
  {
   "cell_type": "code",
   "execution_count": null,
   "id": "ebcc877d-b00b-4257-9f56-106bde414f41",
   "metadata": {},
   "outputs": [],
   "source": [
    "def GetExtent(ds):\n",
    "    \"\"\" Return list of corner coordinates from a gdal Dataset \"\"\"\n",
    "    xmin, xpixel, _, ymax, _, ypixel = ds.GetGeoTransform()\n",
    "    width, height = ds.RasterXSize, ds.RasterYSize\n",
    "    xmax = xmin + width * xpixel\n",
    "    ymin = ymax + height * ypixel\n",
    "\n",
    "    return (xmin, ymax), (xmax, ymax), (xmax, ymin), (xmin, ymin)\n",
    "\n",
    "# https://gis.stackexchange.com/questions/57834/how-to-get-raster-corner-coordinates-using-python-gdal-bindings"
   ]
  },
  {
   "cell_type": "raw",
   "id": "9827ddda-4250-45e3-b99b-7fc4cb50a4c1",
   "metadata": {},
   "source": [
    "faire un fichier bash parait être la meilleur solution puis l'éxecuter directement dans le jupyterlab \n",
    "python bindings pas assez ergonomique pour être utilisés à grande ampleur "
   ]
  },
  {
   "cell_type": "code",
   "execution_count": null,
   "id": "7917ba64-d1ff-483a-8c7c-e86ec3c4d501",
   "metadata": {},
   "outputs": [],
   "source": [
    "import json"
   ]
  },
  {
   "cell_type": "code",
   "execution_count": null,
   "id": "de286235-54b8-4891-af7f-f7eaf2cb1a82",
   "metadata": {},
   "outputs": [],
   "source": [
    "with open(r'C:\\Users\\VArri\\Documents\\Rooftop\\dataset\\dataset\\dataset\\colab\\val\\bellingham1101.json') as json_file:\n",
    "    data = json.load(json_file)\n",
    "    for p in data['shapes']:\n",
    "        print(p['points'])\n",
    "    print(data[\"version\"])\n",
    "    # print(data)\n",
    "    \n",
    "for element in data:\n",
    "    if 'imageData' in element:\n",
    "        print(element['imageData'])\n",
    "        # element.pop('imageData', None)"
   ]
  },
  {
   "cell_type": "code",
   "execution_count": null,
   "id": "84056f13-8405-47c9-9e29-a82ed7243dad",
   "metadata": {},
   "outputs": [],
   "source": [
    "print(data)"
   ]
  },
  {
   "cell_type": "code",
   "execution_count": null,
   "id": "19844829-36e7-4f98-b39e-28f7790b789e",
   "metadata": {},
   "outputs": [],
   "source": []
  },
  {
   "cell_type": "markdown",
   "id": "b1055158-5e22-4c8e-876b-fc0baaa8a6d4",
   "metadata": {},
   "source": [
    "## Preprocessing steps for 5000x5000px GeoTiff images"
   ]
  },
  {
   "cell_type": "code",
   "execution_count": null,
   "id": "bf9b6a40-f152-4f93-a9b9-27fa870b95d4",
   "metadata": {},
   "outputs": [],
   "source": [
    "import os \n",
    "from tqdm import tqdm \n",
    "import json\n",
    "from osgeo import gdal\n",
    "\n",
    "dataset_dir = r\"C:\\Users\\VArri\\Documents\\Rooftop\\dataset\\dataset\\dataset\"\n",
    "\n",
    "train_dir = os.path.join(dataset_dir, 'train', 'images')\n",
    "test_dir  = os.path.join(dataset_dir, 'test', 'images')\n",
    "\n",
    "file_path = os.path.join(dataset_dir, 'austin1.tif')\n",
    "res_path = os.path.join(dataset_dir, 'austin1cvt.tif')\n",
    "final_path = os.path.join(dataset_dir, 'austin1fin.tif')\n",
    "\n",
    "!gdalwarp -tr 0.6 0.6 $file_path $res_path"
   ]
  },
  {
   "cell_type": "code",
   "execution_count": null,
   "id": "12ed4b00-f08b-4f24-9d8e-7ae4b4612e37",
   "metadata": {},
   "outputs": [],
   "source": [
    "!gdalinfo $res_path"
   ]
  },
  {
   "cell_type": "code",
   "execution_count": null,
   "id": "666025ea-006a-4f49-8c37-f856f55b655a",
   "metadata": {},
   "outputs": [],
   "source": [
    "def GetExtent(ds):\n",
    "    \"\"\" Return list of corner coordinates from a gdal Dataset \"\"\"\n",
    "    xmin, xpixel, _, ymax, _, ypixel = ds.GetGeoTransform()\n",
    "    width, height = ds.RasterXSize, ds.RasterYSize\n",
    "    xmax = xmin + width * xpixel\n",
    "    ymin = ymax + height * ypixel\n",
    "\n",
    "    return round(xmin,0), round(xmax,0), round(ymin,0), round(ymax, 0)\n",
    "\n",
    "# https://gis.stackexchange.com/questions/57834/how-to-get-raster-corner-coordinates-using-python-gdal-bindings\n",
    "\n",
    "raster = gdal.Open(file_path)\n",
    "ext = GetExtent(raster) \n",
    "#print(ext)\n",
    "xmin, xmax, ymin, ymax = [str(i) for i in ext]\n",
    "print('Tile extent is')\n",
    "print('Upper Left  : ('+ xmin + ', ' + ymax + ') \\n'\n",
    "      'Lower Left  : (' + xmin + ', ' + ymin  + ') \\n'\n",
    "      'Upper Right : (' + xmax + ', ' + ymax  + ') \\n'\n",
    "      'Lower Right : (' + xmax + ', ' + ymin) "
   ]
  },
  {
   "cell_type": "code",
   "execution_count": null,
   "id": "d1705a5a-6d40-48b9-9d6c-d43e956168ba",
   "metadata": {},
   "outputs": [],
   "source": [
    "nxmin = ext[0]\n",
    "nxmax = ext[0] + 1024 * 0.6\n",
    "nymin = ext[3] - 1024 * 0.6\n",
    "nymax = ext[3]\n",
    "\n",
    "!gdalwarp -overwrite -te $nxmin $nymin $nxmax $nymax $res_path $final_path"
   ]
  },
  {
   "cell_type": "code",
   "execution_count": null,
   "id": "7404cb6e-9990-46ac-910c-9d18496cfd95",
   "metadata": {},
   "outputs": [],
   "source": [
    "!gdalinfo $res_path"
   ]
  },
  {
   "cell_type": "code",
   "execution_count": null,
   "id": "15dd0dc1-4391-4718-9135-bc3b46568084",
   "metadata": {},
   "outputs": [],
   "source": [
    "os.getcwd()"
   ]
  },
  {
   "cell_type": "code",
   "execution_count": null,
   "id": "0b014725-9bf7-4ca5-b383-26a0f9bd81d3",
   "metadata": {},
   "outputs": [],
   "source": [
    "def crop(dataset_dir, file_name):\n",
    "    file_path = os.path.join(dataset_dir, file_name)\n",
    "    \n",
    "    name, ext = file_name.split('.')\n",
    "    \n",
    "    raster = gdal.Open(file_path)\n",
    "    ext = GetExtent(raster)\n",
    "    for i in range(raster.RasterXSize//1024+1):\n",
    "        for j in range(raster.RasterYSize//1024+1):\n",
    "            \n",
    "            if i==raster.RasterXSize//1024 or j==raster.RasterYSize//1024:\n",
    "                if i==raster.RasterXSize//1024 and j!=raster.RasterYSize//1024:\n",
    "                    nxmin = ext[1] - 1024 * 0.6\n",
    "                    nxmax = ext[1]\n",
    "                    nymin = ext[3] - 1024 * 0.6 * (j+1)\n",
    "                    nymax = ext[3] - 1024 * 0.6 * j\n",
    "                    final_path = os.path.join(dataset_dir, name + '_'+str(i)+str(j)+ext)\n",
    "                    !gdalwarp -overwrite -te $nxmin $nymin $nxmax $nymax $file_path $final_path\n",
    "                    \n",
    "                elif i!=raster.RasterXSize//1024 and j==raster.RasterYSize//1024:\n",
    "                    nxmin = ext[0] + 1024 * 0.6 * i\n",
    "                    nxmax = ext[0] + 1024 * 0.6 * (i+1)\n",
    "                    nymin = ext[2]\n",
    "                    nymax = ext[2] + 1024 * 0.6\n",
    "                    final_path = os.path.join(dataset_dir, 'austin1_'+str(i)+str(j)+'.tif')\n",
    "                    !gdalwarp -overwrite -te $nxmin $nymin $nxmax $nymax $file_path $final_path\n",
    "                    \n",
    "                elif i==raster.RasterXSize//1024 and j==raster.RasterYSize//1024:\n",
    "                    nxmin = ext[1] - 1024 * 0.6\n",
    "                    nxmax = ext[1]\n",
    "                    nymin = ext[2]\n",
    "                    nymax = ext[2] + 1024 * 0.6\n",
    "                    final_path = os.path.join(dataset_dir, 'austin1_'+str(i)+str(j)+'.tif')\n",
    "                    !gdalwarp -overwrite -te $nxmin $nymin $nxmax $nymax $file_path $final_path\n",
    "                \n",
    "                continue\n",
    "            \n",
    "            nxmin = ext[0] + 1024 * 0.6 * i\n",
    "            nxmax = ext[0] + 1024 * 0.6 * (i+1)\n",
    "            nymin = ext[3] - 1024 * 0.6 * (j+1)\n",
    "            nymax = ext[3] - 1024 * 0.6 * j\n",
    "            final_path = os.path.join(dataset_dir, 'austin1_'+str(i)+str(j)+'.tif')\n",
    "        \n",
    "            !gdalwarp -overwrite -te $nxmin $nymin $nxmax $nymax $file_path $final_path\n"
   ]
  },
  {
   "cell_type": "code",
   "execution_count": null,
   "id": "8ca15376-3f96-48b2-99b9-9113a59a3719",
   "metadata": {},
   "outputs": [],
   "source": [
    "crop(dataset_dir, res_path)"
   ]
  },
  {
   "cell_type": "code",
   "execution_count": null,
   "id": "bfd0ffea-5880-426d-8363-5a912b55cfdb",
   "metadata": {},
   "outputs": [],
   "source": [
    "final_path = os.path.join(dataset_dir, 'austin1_22.tif')\n"
   ]
  },
  {
   "cell_type": "code",
   "execution_count": null,
   "id": "7cba7d07-3d31-45d5-998a-05d38876df9b",
   "metadata": {},
   "outputs": [],
   "source": [
    "!gdalinfo $final_path"
   ]
  },
  {
   "cell_type": "code",
   "execution_count": 2,
   "id": "fa9ad2cf-f544-45df-9329-e52dc5c0358b",
   "metadata": {},
   "outputs": [],
   "source": [
    "import json\n",
    "import os"
   ]
  },
  {
   "cell_type": "code",
   "execution_count": 3,
   "id": "0b8bb7d9-777d-4b47-b829-32f37d2e0fa0",
   "metadata": {},
   "outputs": [],
   "source": [
    "dataset_dir = r\"C:\\Users\\VArri\\Documents\\Rooftop\\dataset\\dataset\\dataset\"\n",
    "file_path = os.path.join(dataset_dir, 'austin711.json')"
   ]
  },
  {
   "cell_type": "code",
   "execution_count": 7,
   "id": "8be563d5-b751-4ba5-8328-2dd3450c6ec3",
   "metadata": {},
   "outputs": [
    {
     "name": "stdout",
     "output_type": "stream",
     "text": [
      "[[569.8863636363636, 923.8636363636364], [638.9473684210526, 961.578947368421], [643.1578947368421, 968.9473684210526], [627.2727272727273, 998.8636363636364], [550.0, 958.4210526315788]]\n",
      "569.8863636363636\n",
      "[[802.2727272727273, 851.1363636363636], [823.8636363636364, 861.9318181818181], [817.0454545454545, 878.4090909090909], [838.6363636363636, 889.2045454545455], [823.2954545454545, 919.3181818181819], [796.5909090909091, 904.5454545454545], [782.9545454545455, 888.6363636363636]]\n",
      "802.2727272727273\n"
     ]
    },
    {
     "ename": "KeyError",
     "evalue": "'imageHeight'",
     "output_type": "error",
     "traceback": [
      "\u001b[1;31m---------------------------------------------------------------------------\u001b[0m",
      "\u001b[1;31mKeyError\u001b[0m                                  Traceback (most recent call last)",
      "\u001b[1;32m~\\AppData\\Local\\Temp/ipykernel_10592/1867079612.py\u001b[0m in \u001b[0;36m<module>\u001b[1;34m\u001b[0m\n\u001b[0;32m     11\u001b[0m         \u001b[0mprint\u001b[0m\u001b[1;33m(\u001b[0m\u001b[0mp\u001b[0m\u001b[1;33m[\u001b[0m\u001b[1;34m'points'\u001b[0m\u001b[1;33m]\u001b[0m\u001b[1;33m)\u001b[0m\u001b[1;33m\u001b[0m\u001b[1;33m\u001b[0m\u001b[0m\n\u001b[0;32m     12\u001b[0m         \u001b[0mprint\u001b[0m\u001b[1;33m(\u001b[0m\u001b[0mp\u001b[0m\u001b[1;33m[\u001b[0m\u001b[1;34m'points'\u001b[0m\u001b[1;33m]\u001b[0m\u001b[1;33m[\u001b[0m\u001b[1;36m0\u001b[0m\u001b[1;33m]\u001b[0m\u001b[1;33m[\u001b[0m\u001b[1;36m0\u001b[0m\u001b[1;33m]\u001b[0m\u001b[1;33m)\u001b[0m\u001b[1;33m\u001b[0m\u001b[1;33m\u001b[0m\u001b[0m\n\u001b[1;32m---> 13\u001b[1;33m     \u001b[0mprint\u001b[0m\u001b[1;33m(\u001b[0m\u001b[0mdata\u001b[0m\u001b[1;33m[\u001b[0m\u001b[1;34m'imageHeight'\u001b[0m\u001b[1;33m]\u001b[0m\u001b[1;33m)\u001b[0m\u001b[1;33m\u001b[0m\u001b[1;33m\u001b[0m\u001b[0m\n\u001b[0m",
      "\u001b[1;31mKeyError\u001b[0m: 'imageHeight'"
     ]
    }
   ],
   "source": [
    "with open(file_path) as json_file:\n",
    "    data = json.load(json_file)\n",
    "    i=0\n",
    "    j=1\n",
    "    pxmin=1024*i\n",
    "    pxmax=1024*(i+1)\n",
    "    pymin=1024*j\n",
    "    pymax=1024*(j+1)\n",
    "    del data['imageHeight']\n",
    "    for p in data['shapes']:\n",
    "        print(p['points'])\n",
    "        print(p['points'][0][0])\n",
    "    print(data['imageHeight'])"
   ]
  },
  {
   "cell_type": "code",
   "execution_count": 22,
   "id": "6726104a-4fbb-429c-ae0a-cf1d5b95b900",
   "metadata": {},
   "outputs": [],
   "source": [
    "data['imageHeight']=2048"
   ]
  },
  {
   "cell_type": "code",
   "execution_count": 23,
   "id": "6ca33252-73cc-4df2-b6e0-fba4e34c5447",
   "metadata": {},
   "outputs": [
    {
     "name": "stdout",
     "output_type": "stream",
     "text": [
      "2048\n"
     ]
    }
   ],
   "source": [
    " print(data['imageHeight'])"
   ]
  },
  {
   "cell_type": "code",
   "execution_count": 10,
   "id": "9f73652d-07e7-47ed-a35f-31d836edb260",
   "metadata": {},
   "outputs": [
    {
     "ename": "TypeError",
     "evalue": "Object of type TextIOWrapper is not JSON serializable",
     "output_type": "error",
     "traceback": [
      "\u001b[1;31m---------------------------------------------------------------------------\u001b[0m",
      "\u001b[1;31mTypeError\u001b[0m                                 Traceback (most recent call last)",
      "\u001b[1;32m~\\AppData\\Local\\Temp/ipykernel_10592/821811139.py\u001b[0m in \u001b[0;36m<module>\u001b[1;34m\u001b[0m\n\u001b[0;32m      1\u001b[0m \u001b[1;32mwith\u001b[0m \u001b[0mopen\u001b[0m\u001b[1;33m(\u001b[0m\u001b[1;34m\"to.json\"\u001b[0m\u001b[1;33m,\u001b[0m \u001b[1;34m\"w\"\u001b[0m\u001b[1;33m)\u001b[0m \u001b[1;32mas\u001b[0m \u001b[0mto\u001b[0m\u001b[1;33m:\u001b[0m\u001b[1;33m\u001b[0m\u001b[1;33m\u001b[0m\u001b[0m\n\u001b[0;32m      2\u001b[0m     \u001b[0mdestination\u001b[0m \u001b[1;33m=\u001b[0m \u001b[1;33m{\u001b[0m\u001b[1;33m}\u001b[0m\u001b[1;33m\u001b[0m\u001b[1;33m\u001b[0m\u001b[0m\n\u001b[1;32m----> 3\u001b[1;33m     \u001b[0mjson\u001b[0m\u001b[1;33m.\u001b[0m\u001b[0mdump\u001b[0m\u001b[1;33m(\u001b[0m\u001b[0mto\u001b[0m\u001b[1;33m,\u001b[0m \u001b[0mdestination\u001b[0m\u001b[1;33m)\u001b[0m\u001b[1;33m\u001b[0m\u001b[1;33m\u001b[0m\u001b[0m\n\u001b[0m",
      "\u001b[1;32m~\\anaconda3\\envs\\RoofTop\\lib\\json\\__init__.py\u001b[0m in \u001b[0;36mdump\u001b[1;34m(obj, fp, skipkeys, ensure_ascii, check_circular, allow_nan, cls, indent, separators, default, sort_keys, **kw)\u001b[0m\n\u001b[0;32m    177\u001b[0m     \u001b[1;31m# could accelerate with writelines in some versions of Python, at\u001b[0m\u001b[1;33m\u001b[0m\u001b[1;33m\u001b[0m\u001b[1;33m\u001b[0m\u001b[0m\n\u001b[0;32m    178\u001b[0m     \u001b[1;31m# a debuggability cost\u001b[0m\u001b[1;33m\u001b[0m\u001b[1;33m\u001b[0m\u001b[1;33m\u001b[0m\u001b[0m\n\u001b[1;32m--> 179\u001b[1;33m     \u001b[1;32mfor\u001b[0m \u001b[0mchunk\u001b[0m \u001b[1;32min\u001b[0m \u001b[0miterable\u001b[0m\u001b[1;33m:\u001b[0m\u001b[1;33m\u001b[0m\u001b[1;33m\u001b[0m\u001b[0m\n\u001b[0m\u001b[0;32m    180\u001b[0m         \u001b[0mfp\u001b[0m\u001b[1;33m.\u001b[0m\u001b[0mwrite\u001b[0m\u001b[1;33m(\u001b[0m\u001b[0mchunk\u001b[0m\u001b[1;33m)\u001b[0m\u001b[1;33m\u001b[0m\u001b[1;33m\u001b[0m\u001b[0m\n\u001b[0;32m    181\u001b[0m \u001b[1;33m\u001b[0m\u001b[0m\n",
      "\u001b[1;32m~\\anaconda3\\envs\\RoofTop\\lib\\json\\encoder.py\u001b[0m in \u001b[0;36m_iterencode\u001b[1;34m(o, _current_indent_level)\u001b[0m\n\u001b[0;32m    436\u001b[0m                     \u001b[1;32mraise\u001b[0m \u001b[0mValueError\u001b[0m\u001b[1;33m(\u001b[0m\u001b[1;34m\"Circular reference detected\"\u001b[0m\u001b[1;33m)\u001b[0m\u001b[1;33m\u001b[0m\u001b[1;33m\u001b[0m\u001b[0m\n\u001b[0;32m    437\u001b[0m                 \u001b[0mmarkers\u001b[0m\u001b[1;33m[\u001b[0m\u001b[0mmarkerid\u001b[0m\u001b[1;33m]\u001b[0m \u001b[1;33m=\u001b[0m \u001b[0mo\u001b[0m\u001b[1;33m\u001b[0m\u001b[1;33m\u001b[0m\u001b[0m\n\u001b[1;32m--> 438\u001b[1;33m             \u001b[0mo\u001b[0m \u001b[1;33m=\u001b[0m \u001b[0m_default\u001b[0m\u001b[1;33m(\u001b[0m\u001b[0mo\u001b[0m\u001b[1;33m)\u001b[0m\u001b[1;33m\u001b[0m\u001b[1;33m\u001b[0m\u001b[0m\n\u001b[0m\u001b[0;32m    439\u001b[0m             \u001b[1;32myield\u001b[0m \u001b[1;32mfrom\u001b[0m \u001b[0m_iterencode\u001b[0m\u001b[1;33m(\u001b[0m\u001b[0mo\u001b[0m\u001b[1;33m,\u001b[0m \u001b[0m_current_indent_level\u001b[0m\u001b[1;33m)\u001b[0m\u001b[1;33m\u001b[0m\u001b[1;33m\u001b[0m\u001b[0m\n\u001b[0;32m    440\u001b[0m             \u001b[1;32mif\u001b[0m \u001b[0mmarkers\u001b[0m \u001b[1;32mis\u001b[0m \u001b[1;32mnot\u001b[0m \u001b[1;32mNone\u001b[0m\u001b[1;33m:\u001b[0m\u001b[1;33m\u001b[0m\u001b[1;33m\u001b[0m\u001b[0m\n",
      "\u001b[1;32m~\\anaconda3\\envs\\RoofTop\\lib\\json\\encoder.py\u001b[0m in \u001b[0;36mdefault\u001b[1;34m(self, o)\u001b[0m\n\u001b[0;32m    177\u001b[0m \u001b[1;33m\u001b[0m\u001b[0m\n\u001b[0;32m    178\u001b[0m         \"\"\"\n\u001b[1;32m--> 179\u001b[1;33m         raise TypeError(f'Object of type {o.__class__.__name__} '\n\u001b[0m\u001b[0;32m    180\u001b[0m                         f'is not JSON serializable')\n\u001b[0;32m    181\u001b[0m \u001b[1;33m\u001b[0m\u001b[0m\n",
      "\u001b[1;31mTypeError\u001b[0m: Object of type TextIOWrapper is not JSON serializable"
     ]
    }
   ],
   "source": [
    "with open(\"to.json\", \"w\") as to:\n",
    "    destination = {}\n",
    "    json.dump(to, destination)"
   ]
  },
  {
   "cell_type": "code",
   "execution_count": null,
   "id": "051d85cf-0b83-482d-8879-52a1069204a2",
   "metadata": {},
   "outputs": [],
   "source": []
  }
 ],
 "metadata": {
  "kernelspec": {
   "display_name": "Python 3 (ipykernel)",
   "language": "python",
   "name": "python3"
  },
  "language_info": {
   "codemirror_mode": {
    "name": "ipython",
    "version": 3
   },
   "file_extension": ".py",
   "mimetype": "text/x-python",
   "name": "python",
   "nbconvert_exporter": "python",
   "pygments_lexer": "ipython3",
   "version": "3.9.6"
  }
 },
 "nbformat": 4,
 "nbformat_minor": 5
}
