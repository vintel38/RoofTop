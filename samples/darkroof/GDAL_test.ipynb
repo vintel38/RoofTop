{
 "cells": [
  {
   "cell_type": "markdown",
   "id": "1e400de4-298e-4697-8521-7640616a0e4f",
   "metadata": {},
   "source": [
    "# GDAL Test Notebook to check usage of GDAL library\n",
    "\n",
    "To avoid non compatibility between packages at the installation, install everything in one shot \n",
    "conda install -c conda-forge gdal matplotlib scikit-image tqdm tensorflow "
   ]
  },
  {
   "cell_type": "code",
   "execution_count": 1,
   "id": "9a781cdd-a5e5-48d5-b9f2-c9dab3a81533",
   "metadata": {},
   "outputs": [],
   "source": [
    "from osgeo import gdal"
   ]
  },
  {
   "cell_type": "code",
   "execution_count": 2,
   "id": "1a8df7a0-010b-4d0d-9b53-692d04c3c801",
   "metadata": {},
   "outputs": [],
   "source": [
    "import matplotlib"
   ]
  },
  {
   "cell_type": "code",
   "execution_count": 3,
   "id": "dfd81e05-bac3-4ec8-b00c-097bc78a426b",
   "metadata": {},
   "outputs": [],
   "source": [
    "import tensorflow"
   ]
  },
  {
   "cell_type": "code",
   "execution_count": 7,
   "id": "609e6f83-af22-49d8-abea-cfce3b005f18",
   "metadata": {},
   "outputs": [
    {
     "data": {
      "text/plain": [
       "osgeo.gdal.Dataset"
      ]
     },
     "execution_count": 7,
     "metadata": {},
     "output_type": "execute_result"
    }
   ],
   "source": [
    "file_path = r\"C:\\Users\\VArri\\Documents\\Rooftop\\dataset\\dataset\\dataset\\train\\images\\austin1.tif\"\n",
    "raster = gdal.Open(file_path)\n",
    "type(raster)"
   ]
  },
  {
   "cell_type": "code",
   "execution_count": 9,
   "id": "5bcb2284-814a-4ace-95d9-868c3457baae",
   "metadata": {},
   "outputs": [
    {
     "name": "stdout",
     "output_type": "stream",
     "text": [
      "PROJCS[\"NAD83 / UTM zone 14N\",GEOGCS[\"NAD83\",DATUM[\"North_American_Datum_1983\",SPHEROID[\"GRS 1980\",6378137,298.257222101,AUTHORITY[\"EPSG\",\"7019\"]],AUTHORITY[\"EPSG\",\"6269\"]],PRIMEM[\"Greenwich\",0,AUTHORITY[\"EPSG\",\"8901\"]],UNIT[\"degree\",0.0174532925199433,AUTHORITY[\"EPSG\",\"9122\"]],AUTHORITY[\"EPSG\",\"4269\"]],PROJECTION[\"Transverse_Mercator\"],PARAMETER[\"latitude_of_origin\",0],PARAMETER[\"central_meridian\",-99],PARAMETER[\"scale_factor\",0.9996],PARAMETER[\"false_easting\",500000],PARAMETER[\"false_northing\",0],UNIT[\"metre\",1,AUTHORITY[\"EPSG\",\"9001\"]],AXIS[\"Easting\",EAST],AXIS[\"Northing\",NORTH],AUTHORITY[\"EPSG\",\"26914\"]]\n",
      "5000\n",
      "5000\n",
      "3\n",
      "{'AREA_OR_POINT': 'Area'}\n"
     ]
    }
   ],
   "source": [
    "# Projection\n",
    "print(raster.GetProjection())\n",
    "\n",
    "# Dimensions\n",
    "print(raster.RasterXSize)\n",
    "print(raster.RasterYSize)\n",
    "\n",
    "# Number of bands\n",
    "print(raster.RasterCount)\n",
    "\n",
    "# Metadata for the raster dataset\n",
    "print(raster.GetMetadata())"
   ]
  },
  {
   "cell_type": "code",
   "execution_count": 16,
   "id": "cf85f0b3-7ba7-43b4-a3c9-61829ce053f1",
   "metadata": {},
   "outputs": [
    {
     "name": "stdout",
     "output_type": "stream",
     "text": [
      "(616500.0, 0.29999999999997673, 0.0, 3345000.0, 0.0, -0.30000000000009314)\n"
     ]
    }
   ],
   "source": [
    "ulx, xres, xskew, uly, yskew, yres  = raster.GetGeoTransform()\n",
    "# Xp = padfTransform[0] + P*padfTransform[1] + L*padfTransform[2];\n",
    "# Yp = padfTransform[3] + P*padfTransform[4] + L*padfTransform[5];\n",
    "# In a north up image, padfTransform[1] is the pixel width, and padfTransform[5] is the pixel height. \n",
    "# The upper left corner of the upper left pixel is at position (padfTransform[0],padfTransform[3]).\n",
    "print(raster.GetGeoTransform())"
   ]
  },
  {
   "cell_type": "code",
   "execution_count": 18,
   "id": "e2cb35a2-7454-452e-a6a7-40b4225611c5",
   "metadata": {},
   "outputs": [
    {
     "data": {
      "text/plain": [
       "'PROJCS[\"NAD83 / UTM zone 14N\",GEOGCS[\"NAD83\",DATUM[\"North_American_Datum_1983\",SPHEROID[\"GRS 1980\",6378137,298.257222101,AUTHORITY[\"EPSG\",\"7019\"]],AUTHORITY[\"EPSG\",\"6269\"]],PRIMEM[\"Greenwich\",0,AUTHORITY[\"EPSG\",\"8901\"]],UNIT[\"degree\",0.0174532925199433,AUTHORITY[\"EPSG\",\"9122\"]],AUTHORITY[\"EPSG\",\"4269\"]],PROJECTION[\"Transverse_Mercator\"],PARAMETER[\"latitude_of_origin\",0],PARAMETER[\"central_meridian\",-99],PARAMETER[\"scale_factor\",0.9996],PARAMETER[\"false_easting\",500000],PARAMETER[\"false_northing\",0],UNIT[\"metre\",1,AUTHORITY[\"EPSG\",\"9001\"]],AXIS[\"Easting\",EAST],AXIS[\"Northing\",NORTH],AUTHORITY[\"EPSG\",\"26914\"]]'"
      ]
     },
     "execution_count": 18,
     "metadata": {},
     "output_type": "execute_result"
    }
   ],
   "source": [
    "raster.GetProjection()"
   ]
  },
  {
   "cell_type": "code",
   "execution_count": 19,
   "id": "9c089b67-ea29-420d-ae5f-0e602b4d2949",
   "metadata": {},
   "outputs": [
    {
     "name": "stdout",
     "output_type": "stream",
     "text": [
      "Driver: GTiff/GeoTIFF\n",
      "Files: C:\\Users\\VArri\\Documents\\Rooftop\\dataset\\dataset\\dataset\\train\\images\\austin1.tif\n",
      "Size is 5000, 5000\n",
      "Coordinate System is:\n",
      "PROJCRS[\"NAD83 / UTM zone 14N\",\n",
      "    BASEGEOGCRS[\"NAD83\",\n",
      "        DATUM[\"North American Datum 1983\",\n",
      "            ELLIPSOID[\"GRS 1980\",6378137,298.257222101,\n",
      "                LENGTHUNIT[\"metre\",1]]],\n",
      "        PRIMEM[\"Greenwich\",0,\n",
      "            ANGLEUNIT[\"degree\",0.0174532925199433]],\n",
      "        ID[\"EPSG\",4269]],\n",
      "    CONVERSION[\"UTM zone 14N\",\n",
      "        METHOD[\"Transverse Mercator\",\n",
      "            ID[\"EPSG\",9807]],\n",
      "        PARAMETER[\"Latitude of natural origin\",0,\n",
      "            ANGLEUNIT[\"degree\",0.0174532925199433],\n",
      "            ID[\"EPSG\",8801]],\n",
      "        PARAMETER[\"Longitude of natural origin\",-99,\n",
      "            ANGLEUNIT[\"degree\",0.0174532925199433],\n",
      "            ID[\"EPSG\",8802]],\n",
      "        PARAMETER[\"Scale factor at natural origin\",0.9996,\n",
      "            SCALEUNIT[\"unity\",1],\n",
      "            ID[\"EPSG\",8805]],\n",
      "        PARAMETER[\"False easting\",500000,\n",
      "            LENGTHUNIT[\"metre\",1],\n",
      "            ID[\"EPSG\",8806]],\n",
      "        PARAMETER[\"False northing\",0,\n",
      "            LENGTHUNIT[\"metre\",1],\n",
      "            ID[\"EPSG\",8807]]],\n",
      "    CS[Cartesian,2],\n",
      "        AXIS[\"(E)\",east,\n",
      "            ORDER[1],\n",
      "            LENGTHUNIT[\"metre\",1]],\n",
      "        AXIS[\"(N)\",north,\n",
      "            ORDER[2],\n",
      "            LENGTHUNIT[\"metre\",1]],\n",
      "    USAGE[\n",
      "        SCOPE[\"Engineering survey, topographic mapping.\"],\n",
      "        AREA[\"North America - between 102Â°W and 96Â°W - onshore and offshore. Canada - Manitoba; Nunavut; Saskatchewan. United States (USA) - Iowa; Kansas; Minnesota; Nebraska; North Dakota; Oklahoma; South Dakota; Texas.\"],\n",
      "        BBOX[25.83,-102,84,-96]],\n",
      "    ID[\"EPSG\",26914]]\n",
      "Data axis to CRS axis mapping: 1,2\n",
      "Origin = (616500.000000000000000,3345000.000000000000000)\n",
      "Pixel Size = (0.299999999999977,-0.300000000000093)\n",
      "Metadata:\n",
      "  AREA_OR_POINT=Area\n",
      "Image Structure Metadata:\n",
      "  INTERLEAVE=PIXEL\n",
      "Corner Coordinates:\n",
      "Upper Left  (  616500.000, 3345000.000) ( 97d47'21.56\"W, 30d13'51.53\"N)\n",
      "Lower Left  (  616500.000, 3343500.000) ( 97d47'22.16\"W, 30d13' 2.81\"N)\n",
      "Upper Right (  618000.000, 3345000.000) ( 97d46'25.45\"W, 30d13'51.01\"N)\n",
      "Lower Right (  618000.000, 3343500.000) ( 97d46'26.06\"W, 30d13' 2.29\"N)\n",
      "Center      (  617250.000, 3344250.000) ( 97d46'53.81\"W, 30d13'26.91\"N)\n",
      "Band 1 Block=5000x1 Type=Byte, ColorInterp=Red\n",
      "Band 2 Block=5000x1 Type=Byte, ColorInterp=Green\n",
      "Band 3 Block=5000x1 Type=Byte, ColorInterp=Blue\n"
     ]
    }
   ],
   "source": [
    "!gdalinfo $file_path"
   ]
  },
  {
   "cell_type": "code",
   "execution_count": 20,
   "id": "a1368110-d4f2-48ff-bdb0-372c60ff2726",
   "metadata": {},
   "outputs": [
    {
     "name": "stdout",
     "output_type": "stream",
     "text": [
      "Creating output file that is 2500P x 2500L.\n",
      "Processing C:\\Users\\VArri\\Documents\\Rooftop\\dataset\\dataset\\dataset\\train\\images\\austin1.tif [1/1] : 0...10...20...30...40...50...60...70...80...90...100 - done.\n"
     ]
    }
   ],
   "source": [
    "!gdalwarp -tr 0.6 0.6 $file_path cvt.tif"
   ]
  },
  {
   "cell_type": "code",
   "execution_count": 23,
   "id": "1c6c3276-3eb0-44fd-b364-467d7055aba1",
   "metadata": {},
   "outputs": [
    {
     "name": "stdout",
     "output_type": "stream",
     "text": [
      "Driver: GTiff/GeoTIFF\n",
      "Files: cvt.tif\n",
      "Size is 2500, 2500\n",
      "Coordinate System is:\n",
      "PROJCRS[\"NAD83 / UTM zone 14N\",\n",
      "    BASEGEOGCRS[\"NAD83\",\n",
      "        DATUM[\"North American Datum 1983\",\n",
      "            ELLIPSOID[\"GRS 1980\",6378137,298.257222101,\n",
      "                LENGTHUNIT[\"metre\",1]]],\n",
      "        PRIMEM[\"Greenwich\",0,\n",
      "            ANGLEUNIT[\"degree\",0.0174532925199433]],\n",
      "        ID[\"EPSG\",4269]],\n",
      "    CONVERSION[\"UTM zone 14N\",\n",
      "        METHOD[\"Transverse Mercator\",\n",
      "            ID[\"EPSG\",9807]],\n",
      "        PARAMETER[\"Latitude of natural origin\",0,\n",
      "            ANGLEUNIT[\"degree\",0.0174532925199433],\n",
      "            ID[\"EPSG\",8801]],\n",
      "        PARAMETER[\"Longitude of natural origin\",-99,\n",
      "            ANGLEUNIT[\"degree\",0.0174532925199433],\n",
      "            ID[\"EPSG\",8802]],\n",
      "        PARAMETER[\"Scale factor at natural origin\",0.9996,\n",
      "            SCALEUNIT[\"unity\",1],\n",
      "            ID[\"EPSG\",8805]],\n",
      "        PARAMETER[\"False easting\",500000,\n",
      "            LENGTHUNIT[\"metre\",1],\n",
      "            ID[\"EPSG\",8806]],\n",
      "        PARAMETER[\"False northing\",0,\n",
      "            LENGTHUNIT[\"metre\",1],\n",
      "            ID[\"EPSG\",8807]]],\n",
      "    CS[Cartesian,2],\n",
      "        AXIS[\"(E)\",east,\n",
      "            ORDER[1],\n",
      "            LENGTHUNIT[\"metre\",1]],\n",
      "        AXIS[\"(N)\",north,\n",
      "            ORDER[2],\n",
      "            LENGTHUNIT[\"metre\",1]],\n",
      "    USAGE[\n",
      "        SCOPE[\"Engineering survey, topographic mapping.\"],\n",
      "        AREA[\"North America - between 102Â°W and 96Â°W - onshore and offshore. Canada - Manitoba; Nunavut; Saskatchewan. United States (USA) - Iowa; Kansas; Minnesota; Nebraska; North Dakota; Oklahoma; South Dakota; Texas.\"],\n",
      "        BBOX[25.83,-102,84,-96]],\n",
      "    ID[\"EPSG\",26914]]\n",
      "Data axis to CRS axis mapping: 1,2\n",
      "Origin = (616500.000000000000000,3345000.000000000000000)\n",
      "Pixel Size = (0.600000000000000,-0.600000000000000)\n",
      "Metadata:\n",
      "  AREA_OR_POINT=Area\n",
      "Image Structure Metadata:\n",
      "  INTERLEAVE=PIXEL\n",
      "Corner Coordinates:\n",
      "Upper Left  (  616500.000, 3345000.000) ( 97d47'21.56\"W, 30d13'51.53\"N)\n",
      "Lower Left  (  616500.000, 3343500.000) ( 97d47'22.16\"W, 30d13' 2.81\"N)\n",
      "Upper Right (  618000.000, 3345000.000) ( 97d46'25.45\"W, 30d13'51.01\"N)\n",
      "Lower Right (  618000.000, 3343500.000) ( 97d46'26.06\"W, 30d13' 2.29\"N)\n",
      "Center      (  617250.000, 3344250.000) ( 97d46'53.81\"W, 30d13'26.91\"N)\n",
      "Band 1 Block=2500x1 Type=Byte, ColorInterp=Red\n",
      "Band 2 Block=2500x1 Type=Byte, ColorInterp=Green\n",
      "Band 3 Block=2500x1 Type=Byte, ColorInterp=Blue\n"
     ]
    }
   ],
   "source": [
    "!gdalinfo cvt.tif"
   ]
  },
  {
   "cell_type": "code",
   "execution_count": 27,
   "id": "e5080ed3-8f15-4c7c-8107-c331012c4f69",
   "metadata": {},
   "outputs": [
    {
     "data": {
      "text/plain": [
       "((616500.0, 3345000.0),\n",
       " (617999.9999999999, 3345000.0),\n",
       " (617999.9999999999, 3343499.9999999995),\n",
       " (616500.0, 3343499.9999999995))"
      ]
     },
     "execution_count": 27,
     "metadata": {},
     "output_type": "execute_result"
    }
   ],
   "source": [
    "ext = GetExtent(raster) \n",
    "ext"
   ]
  },
  {
   "cell_type": "code",
   "execution_count": 28,
   "id": "ebcc877d-b00b-4257-9f56-106bde414f41",
   "metadata": {},
   "outputs": [],
   "source": [
    "def GetExtent(ds):\n",
    "    \"\"\" Return list of corner coordinates from a gdal Dataset \"\"\"\n",
    "    xmin, xpixel, _, ymax, _, ypixel = ds.GetGeoTransform()\n",
    "    width, height = ds.RasterXSize, ds.RasterYSize\n",
    "    xmax = xmin + width * xpixel\n",
    "    ymin = ymax + height * ypixel\n",
    "\n",
    "    return (xmin, ymax), (xmax, ymax), (xmax, ymin), (xmin, ymin)\n",
    "\n",
    "# https://gis.stackexchange.com/questions/57834/how-to-get-raster-corner-coordinates-using-python-gdal-bindings"
   ]
  },
  {
   "cell_type": "raw",
   "id": "9827ddda-4250-45e3-b99b-7fc4cb50a4c1",
   "metadata": {},
   "source": [
    "faire un fichier bash parait être la meilleur solution puis l'éxecuter directement dans le jupyterlab \n",
    "python bindings pas assez ergonomique pour être utilisés à grande ampleur "
   ]
  }
 ],
 "metadata": {
  "kernelspec": {
   "display_name": "Python 3 (ipykernel)",
   "language": "python",
   "name": "python3"
  },
  "language_info": {
   "codemirror_mode": {
    "name": "ipython",
    "version": 3
   },
   "file_extension": ".py",
   "mimetype": "text/x-python",
   "name": "python",
   "nbconvert_exporter": "python",
   "pygments_lexer": "ipython3",
   "version": "3.9.6"
  }
 },
 "nbformat": 4,
 "nbformat_minor": 5
}
